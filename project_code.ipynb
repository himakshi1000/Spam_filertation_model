import numpy as np
import pandas as pd
from sklearn.model_selection import train_test_split
from sklearn.feature_extraction.text import TfidfVectorizer
from sklearn.linear_model import LogisticRegression
from sklearn.metrics import accuracy_score

df = pd.read_csv('mail_data.csv')

data = df.where((pd.notnull(df)),'')

data.loc[data['Category'] == 'spam', 'Category', ] = 0
data.loc[data['Category'] == 'ham', 'Category', ] = 1

X = data['Message']
Y = data['Category']

# Split the data into training and testing sets
X_train, X_test, Y_train, Y_test = train_test_split(X, Y, test_size=0.2, random_state = 3)

# Converting the text data into numerical features

feature_extraction = TfidfVectorizer(min_df = 1, stop_words = 'english', lowercase=True)

X_train_features = feature_extraction.fit_transform(X_train)
X_test_features = feature_extraction.transform(X_test)

Y_train = Y_train.astype('int')
Y_test = Y_test.astype('int')

model = LogisticRegression()    # Creating the instance of 'LogisticRegression'

model.fit(X_train_features, Y_train)    # Training the model

prediction_on_test_data = model.predict(X_test_features)    # Making predictions on the test data using the trained model

prediction_on_test_data

accuracy_on_test_data = accuracy_score(Y_test, prediction_on_test_data)
print("Accuracy:", accuracy_on_test_data)

# Confusion Matrix

from sklearn.metrics import confusion_matrix
cm = confusion_matrix(Y_test, prediction_on_test_data)

import seaborn as sns
sns.heatmap(cm, annot=True)

# Classification report

from sklearn.metrics import accuracy_score, classification_report

accuracy = accuracy_score(Y_test, prediction_on_test_data)
report = classification_report(Y_test, prediction_on_test_data)
print(f'Accuracy: {accuracy}')
print(f'\nClassification Report:\n{report}')

# Predicting some sample texts

# spam_text = "Congratulations! You've won a $1,000 Walmart gift card. Click here to claim your prize now: http://spamlink.com"
# ham_text = "Hi John, just wanted to check if you're available for the meeting tomorrow at 10 AM. Let me know if that works for you. Thanks!"

input_text = ['''Congratulations! You've won a $1,000 Walmart gift card. Click here to claim your prize now: http://spamlink.com''']

input_data_features= feature_extraction.transform(input_text)

prediction = model.predict(input_data_features)

if(prediction[0] == 1):
    print('Ham')
else:
    print('Spam')

input_text = ['''Hi John, just wanted to check if you're available for the meeting tomorrow at 10 AM.
Let me know if that works for you. Thanks!''']

input_data_features= feature_extraction.transform(input_text)

prediction = model.predict(input_data_features)
if(prediction[0] == 1):
    print('Ham')
else:
    print('Spam')






